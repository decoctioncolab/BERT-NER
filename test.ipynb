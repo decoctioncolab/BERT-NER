{
 "cells": [
  {
   "cell_type": "code",
   "execution_count": 3,
   "metadata": {},
   "outputs": [
    {
     "name": "stderr",
     "output_type": "stream",
     "text": [
      "usage: ipykernel_launcher.py [-h] [--data_dir DATA_DIR]\n",
      "                             [--bert_model BERT_MODEL] [--task_name TASK_NAME]\n",
      "                             [--output_dir OUTPUT_DIR] [--cache_dir CACHE_DIR]\n",
      "                             [--max_seq_length MAX_SEQ_LENGTH] [--do_train]\n",
      "                             [--do_eval] [--eval_on EVAL_ON] [--do_lower_case]\n",
      "                             [--train_batch_size TRAIN_BATCH_SIZE]\n",
      "                             [--eval_batch_size EVAL_BATCH_SIZE]\n",
      "                             [--learning_rate LEARNING_RATE]\n",
      "                             [--num_train_epochs NUM_TRAIN_EPOCHS]\n",
      "                             [--warmup_proportion WARMUP_PROPORTION]\n",
      "                             [--weight_decay WEIGHT_DECAY]\n",
      "                             [--adam_epsilon ADAM_EPSILON]\n",
      "                             [--max_grad_norm MAX_GRAD_NORM] [--no_cuda]\n",
      "                             [--local_rank LOCAL_RANK] [--seed SEED]\n",
      "                             [--gradient_accumulation_steps GRADIENT_ACCUMULATION_STEPS]\n",
      "                             [--fp16] [--fp16_opt_level FP16_OPT_LEVEL]\n",
      "                             [--loss_scale LOSS_SCALE] [--server_ip SERVER_IP]\n",
      "                             [--server_port SERVER_PORT]\n",
      "ipykernel_launcher.py: error: ambiguous option: --f=/home/sam/.local/share/jupyter/runtime/kernel-v2-49525UQnbgIO9Uac.json could match --fp16, --fp16_opt_level\n"
     ]
    },
    {
     "ename": "SystemExit",
     "evalue": "2",
     "output_type": "error",
     "traceback": [
      "An exception has occurred, use %tb to see the full traceback.\n",
      "\u001b[0;31mSystemExit\u001b[0m\u001b[0;31m:\u001b[0m 2\n"
     ]
    },
    {
     "name": "stderr",
     "output_type": "stream",
     "text": [
      "/home/sam/WAVEAXIS/BERT-NER/VENV/lib/python3.10/site-packages/IPython/core/interactiveshell.py:3468: UserWarning: To exit: use 'exit', 'quit', or Ctrl-D.\n",
      "  warn(\"To exit: use 'exit', 'quit', or Ctrl-D.\", stacklevel=1)\n"
     ]
    }
   ],
   "source": [
    "import argparse,json\n",
    "def getArgs(jsonfile):\n",
    "    parser = argparse.ArgumentParser(description='Process some files.')\n",
    "\n",
    "\n",
    "    with open(jsonfile) as f:\n",
    "        params = json.load(f)\n",
    "        for param_name, d in params.items():\n",
    "            # print(param_name,d.keys())\n",
    "            if ('action' in d):\n",
    "                # print(param_name,d.keys())\n",
    "                parser.add_argument(\n",
    "                    f'--{param_name}', action=d['action'], default=d['default'], required=d['required'], help=d['help'])\n",
    "            else:\n",
    "                parser.add_argument(f'--{param_name}', default=d['default'], type=type(\n",
    "                    d['type']), required=d['required'], help=d['help'])\n",
    "    args = parser.parse_args()\n",
    "    return args\n",
    "\n",
    "args=getArgs('params.json')"
   ]
  },
  {
   "cell_type": "code",
   "execution_count": null,
   "metadata": {},
   "outputs": [],
   "source": []
  }
 ],
 "metadata": {
  "kernelspec": {
   "display_name": "VENV",
   "language": "python",
   "name": "python3"
  },
  "language_info": {
   "codemirror_mode": {
    "name": "ipython",
    "version": 3
   },
   "file_extension": ".py",
   "mimetype": "text/x-python",
   "name": "python",
   "nbconvert_exporter": "python",
   "pygments_lexer": "ipython3",
   "version": "3.10.6"
  },
  "orig_nbformat": 4,
  "vscode": {
   "interpreter": {
    "hash": "b3f0cb09cf39f94390da804c7347c48ed1849dfb7887c7f89533e9cdfc591a42"
   }
  }
 },
 "nbformat": 4,
 "nbformat_minor": 2
}
