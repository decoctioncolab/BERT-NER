{
 "cells": [
  {
   "cell_type": "code",
   "execution_count": null,
   "metadata": {},
   "outputs": [],
   "source": [
    "# !python run_ner.py --data_dir=data/ --bert_model=bert-base-cased --task_name=ner --output_dir=out_base --max_seq_length=128 --do_train --num_train_epochs 0 --do_eval --warmup_proportion=0.1\n",
    "\n"
   ]
  },
  {
   "cell_type": "code",
   "execution_count": 21,
   "metadata": {},
   "outputs": [
    {
     "name": "stdout",
     "output_type": "stream",
     "text": [
      "train_data_file dict_keys(['value', 'help', 'type', 'required'])\n",
      "eval_data_file dict_keys(['value', 'help', 'type', 'required'])\n",
      "output_dir dict_keys(['value', 'help', 'type', 'required'])\n",
      "model_name_or_path dict_keys(['value', 'help', 'type', 'required'])\n",
      "config_name dict_keys(['value', 'help', 'type', 'required'])\n",
      "tokenizer_name dict_keys(['value', 'help', 'type', 'required'])\n",
      "do_lower_case dict_keys(['value', 'help', 'type', 'required'])\n",
      "per_device_train_batch_size dict_keys(['value', 'help', 'type', 'required'])\n",
      "per_device_eval_batch_size dict_keys(['value', 'help', 'type', 'required'])\n",
      "learning_rate dict_keys(['value', 'help', 'type', 'required'])\n",
      "num_train_epochs dict_keys(['value', 'help', 'type', 'required'])\n",
      "max_seq_length dict_keys(['value', 'help', 'type', 'required'])\n",
      "warmup_steps dict_keys(['value', 'help', 'type', 'required'])\n",
      "logging_dir dict_keys(['value', 'help', 'type', 'required'])\n",
      "logging_steps dict_keys(['value', 'help', 'type', 'required'])\n",
      "save_steps dict_keys(['value', 'help', 'type', 'required'])\n"
     ]
    },
    {
     "name": "stderr",
     "output_type": "stream",
     "text": [
      "usage: ipykernel_launcher.py [-h] [--train_data_file TRAIN_DATA_FILE]\n",
      "                             [--eval_data_file EVAL_DATA_FILE]\n",
      "                             [--output_dir OUTPUT_DIR]\n",
      "                             [--model_name_or_path MODEL_NAME_OR_PATH]\n",
      "                             [--config_name CONFIG_NAME]\n",
      "                             [--tokenizer_name TOKENIZER_NAME]\n",
      "                             [--do_lower_case DO_LOWER_CASE]\n",
      "                             [--per_device_train_batch_size PER_DEVICE_TRAIN_BATCH_SIZE]\n",
      "                             [--per_device_eval_batch_size PER_DEVICE_EVAL_BATCH_SIZE]\n",
      "                             [--learning_rate LEARNING_RATE]\n",
      "                             [--num_train_epochs NUM_TRAIN_EPOCHS]\n",
      "                             [--max_seq_length MAX_SEQ_LENGTH]\n",
      "                             [--warmup_steps WARMUP_STEPS]\n",
      "                             [--logging_dir LOGGING_DIR]\n",
      "                             [--logging_steps LOGGING_STEPS]\n",
      "                             [--save_steps SAVE_STEPS]\n",
      "ipykernel_launcher.py: error: unrecognized arguments: --ip=127.0.0.1 --stdin=9011 --control=9009 --hb=9008 --Session.signature_scheme=\"hmac-sha256\" --Session.key=b\"3a29e697-d3d3-4278-9299-701b970b63e0\" --shell=9010 --transport=\"tcp\" --iopub=9012 --f=/home/sam/.local/share/jupyter/runtime/kernel-v2-7632Wgt4VPGRcsdR.json\n"
     ]
    }
   ],
   "source": [
    "import argparse\n",
    "import json\n",
    "\n",
    "parser = argparse.ArgumentParser(description='Process some files.')\n",
    "with open('params.json') as f:\n",
    "    params = json.load(f)\n",
    "    for param_name,d in params.items():\n",
    "        print(param_name,d.keys())\n",
    "        parser.add_argument(f'--{param_name}',default=d['value'],type=type(d['type']),required=d['required'],help=d['help'] )\n",
    "\n",
    "try:\n",
    "    args = parser.parse_args()\n",
    "except SystemExit:\n",
    "    args = parser.parse_args(args=[])\n"
   ]
  },
  {
   "cell_type": "code",
   "execution_count": 23,
   "metadata": {},
   "outputs": [
    {
     "data": {
      "text/plain": [
       "''"
      ]
     },
     "execution_count": 23,
     "metadata": {},
     "output_type": "execute_result"
    }
   ],
   "source": [
    "args.config_name"
   ]
  },
  {
   "cell_type": "code",
   "execution_count": null,
   "metadata": {},
   "outputs": [],
   "source": []
  }
 ],
 "metadata": {
  "kernelspec": {
   "display_name": "VENV",
   "language": "python",
   "name": "python3"
  },
  "language_info": {
   "codemirror_mode": {
    "name": "ipython",
    "version": 3
   },
   "file_extension": ".py",
   "mimetype": "text/x-python",
   "name": "python",
   "nbconvert_exporter": "python",
   "pygments_lexer": "ipython3",
   "version": "3.10.6"
  },
  "orig_nbformat": 4,
  "vscode": {
   "interpreter": {
    "hash": "b3f0cb09cf39f94390da804c7347c48ed1849dfb7887c7f89533e9cdfc591a42"
   }
  }
 },
 "nbformat": 4,
 "nbformat_minor": 2
}
